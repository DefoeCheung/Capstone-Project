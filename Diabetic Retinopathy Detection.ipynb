{
 "cells": [
  {
   "cell_type": "markdown",
   "metadata": {},
   "source": [
    "## Loading train labels with image name and level"
   ]
  },
  {
   "cell_type": "code",
   "execution_count": 2,
   "metadata": {},
   "outputs": [
    {
     "data": {
      "text/html": [
       "<div>\n",
       "<style scoped>\n",
       "    .dataframe tbody tr th:only-of-type {\n",
       "        vertical-align: middle;\n",
       "    }\n",
       "\n",
       "    .dataframe tbody tr th {\n",
       "        vertical-align: top;\n",
       "    }\n",
       "\n",
       "    .dataframe thead th {\n",
       "        text-align: right;\n",
       "    }\n",
       "</style>\n",
       "<table border=\"1\" class=\"dataframe\">\n",
       "  <thead>\n",
       "    <tr style=\"text-align: right;\">\n",
       "      <th></th>\n",
       "      <th>image</th>\n",
       "      <th>level</th>\n",
       "    </tr>\n",
       "  </thead>\n",
       "  <tbody>\n",
       "    <tr>\n",
       "      <th>0</th>\n",
       "      <td>10_left</td>\n",
       "      <td>0</td>\n",
       "    </tr>\n",
       "    <tr>\n",
       "      <th>1</th>\n",
       "      <td>10_right</td>\n",
       "      <td>0</td>\n",
       "    </tr>\n",
       "    <tr>\n",
       "      <th>2</th>\n",
       "      <td>13_left</td>\n",
       "      <td>0</td>\n",
       "    </tr>\n",
       "    <tr>\n",
       "      <th>3</th>\n",
       "      <td>13_right</td>\n",
       "      <td>0</td>\n",
       "    </tr>\n",
       "    <tr>\n",
       "      <th>4</th>\n",
       "      <td>15_left</td>\n",
       "      <td>1</td>\n",
       "    </tr>\n",
       "  </tbody>\n",
       "</table>\n",
       "</div>"
      ],
      "text/plain": [
       "      image  level\n",
       "0   10_left      0\n",
       "1  10_right      0\n",
       "2   13_left      0\n",
       "3  13_right      0\n",
       "4   15_left      1"
      ]
     },
     "execution_count": 2,
     "metadata": {},
     "output_type": "execute_result"
    }
   ],
   "source": [
    "import pandas as pd\n",
    "\n",
    "trainLabels = pd.read_csv('trainLabels.csv')\n",
    "trainLabels.head()"
   ]
  },
  {
   "cell_type": "code",
   "execution_count": 3,
   "metadata": {},
   "outputs": [],
   "source": [
    "import os\n",
    "import glob"
   ]
  },
  {
   "cell_type": "code",
   "execution_count": 4,
   "metadata": {},
   "outputs": [
    {
     "name": "stdout",
     "output_type": "stream",
     "text": [
      "C:\\Users\\defoe\\Diabetic\n"
     ]
    }
   ],
   "source": [
    "print(os.getcwd())"
   ]
  },
  {
   "cell_type": "code",
   "execution_count": 5,
   "metadata": {},
   "outputs": [],
   "source": [
    "TRAINDIR = 'D:/Diabetic Retinopathy Data/train'\n",
    "TESTDIR = 'D:/Diabetic Retinopathy Data/test'"
   ]
  },
  {
   "cell_type": "code",
   "execution_count": 6,
   "metadata": {},
   "outputs": [],
   "source": [
    "train_dir = os.path.join(TRAINDIR,'train')\n",
    "train_file = glob.glob(train_dir+'/*.jpeg')\n",
    "test_dir = os.path.join(TESTDIR,'test')\n",
    "test_file = glob.glob(test_dir+'/*.jpeg')"
   ]
  },
  {
   "cell_type": "code",
   "execution_count": 7,
   "metadata": {},
   "outputs": [
    {
     "data": {
      "text/plain": [
       "(35126, 53576)"
      ]
     },
     "execution_count": 7,
     "metadata": {},
     "output_type": "execute_result"
    }
   ],
   "source": [
    "len(train_file) ,len(test_file)"
   ]
  },
  {
   "cell_type": "code",
   "execution_count": 8,
   "metadata": {},
   "outputs": [
    {
     "data": {
      "text/html": [
       "<div>\n",
       "<style scoped>\n",
       "    .dataframe tbody tr th:only-of-type {\n",
       "        vertical-align: middle;\n",
       "    }\n",
       "\n",
       "    .dataframe tbody tr th {\n",
       "        vertical-align: top;\n",
       "    }\n",
       "\n",
       "    .dataframe thead th {\n",
       "        text-align: right;\n",
       "    }\n",
       "</style>\n",
       "<table border=\"1\" class=\"dataframe\">\n",
       "  <thead>\n",
       "    <tr style=\"text-align: right;\">\n",
       "      <th></th>\n",
       "      <th>filename</th>\n",
       "      <th>level</th>\n",
       "    </tr>\n",
       "  </thead>\n",
       "  <tbody>\n",
       "    <tr>\n",
       "      <th>0</th>\n",
       "      <td>D:/Diabetic Retinopathy Data/train\\train\\29162...</td>\n",
       "      <td>0</td>\n",
       "    </tr>\n",
       "    <tr>\n",
       "      <th>1</th>\n",
       "      <td>D:/Diabetic Retinopathy Data/train\\train\\7896_...</td>\n",
       "      <td>0</td>\n",
       "    </tr>\n",
       "    <tr>\n",
       "      <th>2</th>\n",
       "      <td>D:/Diabetic Retinopathy Data/train\\train\\22557...</td>\n",
       "      <td>0</td>\n",
       "    </tr>\n",
       "    <tr>\n",
       "      <th>3</th>\n",
       "      <td>D:/Diabetic Retinopathy Data/train\\train\\34482...</td>\n",
       "      <td>2</td>\n",
       "    </tr>\n",
       "    <tr>\n",
       "      <th>4</th>\n",
       "      <td>D:/Diabetic Retinopathy Data/train\\train\\14356...</td>\n",
       "      <td>2</td>\n",
       "    </tr>\n",
       "  </tbody>\n",
       "</table>\n",
       "</div>"
      ],
      "text/plain": [
       "                                            filename  level\n",
       "0  D:/Diabetic Retinopathy Data/train\\train\\29162...      0\n",
       "1  D:/Diabetic Retinopathy Data/train\\train\\7896_...      0\n",
       "2  D:/Diabetic Retinopathy Data/train\\train\\22557...      0\n",
       "3  D:/Diabetic Retinopathy Data/train\\train\\34482...      2\n",
       "4  D:/Diabetic Retinopathy Data/train\\train\\14356...      2"
      ]
     },
     "execution_count": 8,
     "metadata": {},
     "output_type": "execute_result"
    }
   ],
   "source": [
    "import numpy as np\n",
    "import pandas as pd\n",
    "\n",
    "np.random.seed(42)\n",
    "\n",
    "train_df = pd.DataFrame({\n",
    "    'filename': train_file,\n",
    "    'level': trainLabels['level']\n",
    "}).sample(frac=1, random_state=111).reset_index(drop=True)\n",
    "\n",
    "train_df.head()"
   ]
  },
  {
   "cell_type": "code",
   "execution_count": 9,
   "metadata": {},
   "outputs": [
    {
     "data": {
      "text/html": [
       "<div>\n",
       "<style scoped>\n",
       "    .dataframe tbody tr th:only-of-type {\n",
       "        vertical-align: middle;\n",
       "    }\n",
       "\n",
       "    .dataframe tbody tr th {\n",
       "        vertical-align: top;\n",
       "    }\n",
       "\n",
       "    .dataframe thead th {\n",
       "        text-align: right;\n",
       "    }\n",
       "</style>\n",
       "<table border=\"1\" class=\"dataframe\">\n",
       "  <thead>\n",
       "    <tr style=\"text-align: right;\">\n",
       "      <th></th>\n",
       "      <th>filename</th>\n",
       "    </tr>\n",
       "  </thead>\n",
       "  <tbody>\n",
       "    <tr>\n",
       "      <th>0</th>\n",
       "      <td>D:/Diabetic Retinopathy Data/test\\test\\44311_l...</td>\n",
       "    </tr>\n",
       "    <tr>\n",
       "      <th>1</th>\n",
       "      <td>D:/Diabetic Retinopathy Data/test\\test\\26998_l...</td>\n",
       "    </tr>\n",
       "    <tr>\n",
       "      <th>2</th>\n",
       "      <td>D:/Diabetic Retinopathy Data/test\\test\\12562_r...</td>\n",
       "    </tr>\n",
       "    <tr>\n",
       "      <th>3</th>\n",
       "      <td>D:/Diabetic Retinopathy Data/test\\test\\8775_le...</td>\n",
       "    </tr>\n",
       "    <tr>\n",
       "      <th>4</th>\n",
       "      <td>D:/Diabetic Retinopathy Data/test\\test\\16942_l...</td>\n",
       "    </tr>\n",
       "  </tbody>\n",
       "</table>\n",
       "</div>"
      ],
      "text/plain": [
       "                                            filename\n",
       "0  D:/Diabetic Retinopathy Data/test\\test\\44311_l...\n",
       "1  D:/Diabetic Retinopathy Data/test\\test\\26998_l...\n",
       "2  D:/Diabetic Retinopathy Data/test\\test\\12562_r...\n",
       "3  D:/Diabetic Retinopathy Data/test\\test\\8775_le...\n",
       "4  D:/Diabetic Retinopathy Data/test\\test\\16942_l..."
      ]
     },
     "execution_count": 9,
     "metadata": {},
     "output_type": "execute_result"
    }
   ],
   "source": [
    "test_df = pd.DataFrame({\n",
    "    'filename': test_file,\n",
    "}).sample(frac=0.16,random_state=111).reset_index(drop=True)\n",
    "\n",
    "test_df.head()"
   ]
  },
  {
   "cell_type": "code",
   "execution_count": 11,
   "metadata": {},
   "outputs": [
    {
     "data": {
      "image/png": "[encoded data removed]",
      "text/plain": [
       "<Figure size 432x288 with 1 Axes>"
      ]
     },
     "metadata": {
      "needs_background": "light"
     },
     "output_type": "display_data"
    }
   ],
   "source": [
    "import seaborn as sns\n",
    "import matplotlib.pyplot as plt\n",
    "\n",
    "sns.countplot(train_df['level'])\n",
    "plt.show()"
   ]
  },
  {
   "cell_type": "code",
   "execution_count": 12,
   "metadata": {},
   "outputs": [],
   "source": [
    "from sklearn.model_selection import train_test_split\n",
    "from collections import Counter\n",
    "\n",
    "train_files, val_files, train_labels, val_labels = train_test_split(train_df['filename'].values,\n",
    "                                                                    train_df['level'], \n",
    "                                                                    test_size=0.1, random_state=42)"
   ]
  },
  {
   "cell_type": "code",
   "execution_count": 13,
   "metadata": {},
   "outputs": [
    {
     "name": "stdout",
     "output_type": "stream",
     "text": [
      "(31613,) (3513,)\n",
      "Train: Counter({0: 23232, 2: 4734, 1: 2206, 3: 786, 4: 655}) \n",
      "Val: Counter({0: 2578, 2: 558, 1: 237, 3: 87, 4: 53})\n"
     ]
    }
   ],
   "source": [
    "print(train_files.shape, val_files.shape)\n",
    "print('Train:', Counter(train_labels), '\\nVal:', Counter(val_labels))"
   ]
  },
  {
   "cell_type": "code",
   "execution_count": 14,
   "metadata": {},
   "outputs": [],
   "source": [
    "import cv2\n",
    "from concurrent import futures\n",
    "import threading"
   ]
  },
  {
   "cell_type": "code",
   "execution_count": 15,
   "metadata": {},
   "outputs": [
    {
     "name": "stdout",
     "output_type": "stream",
     "text": [
      "Starting Img shape computation:\n",
      "ThreadPoolExecutor-0_0: working on img num: 0\n",
      "ThreadPoolExecutor-0_2: working on img num: 5000\n",
      "ThreadPoolExecutor-0_0: working on img num: 10000\n",
      "ThreadPoolExecutor-0_39: working on img num: 15000\n",
      "ThreadPoolExecutor-0_0: working on img num: 20000\n",
      "ThreadPoolExecutor-0_6: working on img num: 25000\n",
      "ThreadPoolExecutor-0_63: working on img num: 30000\n",
      "ThreadPoolExecutor-0_13: working on img num: 31612\n"
     ]
    },
    {
     "ename": "TypeError",
     "evalue": "'<=' not supported between instances of 'tuple' and 'NoneType'",
     "output_type": "error",
     "traceback": [
      "\u001b[1;31m---------------------------------------------------------------------------\u001b[0m",
      "\u001b[1;31mTypeError\u001b[0m                                 Traceback (most recent call last)",
      "\u001b[1;32m<ipython-input-15-b29be14dbc16>\u001b[0m in \u001b[0;36m<module>\u001b[1;34m\u001b[0m\n\u001b[0;32m     13\u001b[0m                             [record[2] for record in data_inp])\n\u001b[0;32m     14\u001b[0m \u001b[0mtrain_img_dims\u001b[0m \u001b[1;33m=\u001b[0m \u001b[0mlist\u001b[0m\u001b[1;33m(\u001b[0m\u001b[0mtrain_img_dims_map\u001b[0m\u001b[1;33m)\u001b[0m\u001b[1;33m\u001b[0m\u001b[1;33m\u001b[0m\u001b[0m\n\u001b[1;32m---> 15\u001b[1;33m \u001b[0mprint\u001b[0m\u001b[1;33m(\u001b[0m\u001b[1;34m'Min Dimensions:'\u001b[0m\u001b[1;33m,\u001b[0m \u001b[0mnp\u001b[0m\u001b[1;33m.\u001b[0m\u001b[0mmin\u001b[0m\u001b[1;33m(\u001b[0m\u001b[0mtrain_img_dims\u001b[0m\u001b[1;33m,\u001b[0m \u001b[0maxis\u001b[0m\u001b[1;33m=\u001b[0m\u001b[1;36m0\u001b[0m\u001b[1;33m)\u001b[0m\u001b[1;33m)\u001b[0m\u001b[1;33m\u001b[0m\u001b[1;33m\u001b[0m\u001b[0m\n\u001b[0m\u001b[0;32m     16\u001b[0m \u001b[0mprint\u001b[0m\u001b[1;33m(\u001b[0m\u001b[1;34m'Avg Dimensions:'\u001b[0m\u001b[1;33m,\u001b[0m \u001b[0mnp\u001b[0m\u001b[1;33m.\u001b[0m\u001b[0mmean\u001b[0m\u001b[1;33m(\u001b[0m\u001b[0mtrain_img_dims\u001b[0m\u001b[1;33m,\u001b[0m \u001b[0maxis\u001b[0m\u001b[1;33m=\u001b[0m\u001b[1;36m0\u001b[0m\u001b[1;33m)\u001b[0m\u001b[1;33m)\u001b[0m\u001b[1;33m\u001b[0m\u001b[1;33m\u001b[0m\u001b[0m\n\u001b[0;32m     17\u001b[0m \u001b[0mprint\u001b[0m\u001b[1;33m(\u001b[0m\u001b[1;34m'Median Dimensions:'\u001b[0m\u001b[1;33m,\u001b[0m \u001b[0mnp\u001b[0m\u001b[1;33m.\u001b[0m\u001b[0mmedian\u001b[0m\u001b[1;33m(\u001b[0m\u001b[0mtrain_img_dims\u001b[0m\u001b[1;33m,\u001b[0m \u001b[0maxis\u001b[0m\u001b[1;33m=\u001b[0m\u001b[1;36m0\u001b[0m\u001b[1;33m)\u001b[0m\u001b[1;33m)\u001b[0m\u001b[1;33m\u001b[0m\u001b[1;33m\u001b[0m\u001b[0m\n",
      "\u001b[1;32m~\\AppData\\Local\\Continuum\\anaconda3\\lib\\site-packages\\numpy\\core\\fromnumeric.py\u001b[0m in \u001b[0;36mamin\u001b[1;34m(a, axis, out, keepdims, initial)\u001b[0m\n\u001b[0;32m   2616\u001b[0m     \"\"\"\n\u001b[0;32m   2617\u001b[0m     return _wrapreduction(a, np.minimum, 'min', axis, None, out, keepdims=keepdims,\n\u001b[1;32m-> 2618\u001b[1;33m                           initial=initial)\n\u001b[0m\u001b[0;32m   2619\u001b[0m \u001b[1;33m\u001b[0m\u001b[0m\n\u001b[0;32m   2620\u001b[0m \u001b[1;33m\u001b[0m\u001b[0m\n",
      "\u001b[1;32m~\\AppData\\Local\\Continuum\\anaconda3\\lib\\site-packages\\numpy\\core\\fromnumeric.py\u001b[0m in \u001b[0;36m_wrapreduction\u001b[1;34m(obj, ufunc, method, axis, dtype, out, **kwargs)\u001b[0m\n\u001b[0;32m     84\u001b[0m                 \u001b[1;32mreturn\u001b[0m \u001b[0mreduction\u001b[0m\u001b[1;33m(\u001b[0m\u001b[0maxis\u001b[0m\u001b[1;33m=\u001b[0m\u001b[0maxis\u001b[0m\u001b[1;33m,\u001b[0m \u001b[0mout\u001b[0m\u001b[1;33m=\u001b[0m\u001b[0mout\u001b[0m\u001b[1;33m,\u001b[0m \u001b[1;33m**\u001b[0m\u001b[0mpasskwargs\u001b[0m\u001b[1;33m)\u001b[0m\u001b[1;33m\u001b[0m\u001b[1;33m\u001b[0m\u001b[0m\n\u001b[0;32m     85\u001b[0m \u001b[1;33m\u001b[0m\u001b[0m\n\u001b[1;32m---> 86\u001b[1;33m     \u001b[1;32mreturn\u001b[0m \u001b[0mufunc\u001b[0m\u001b[1;33m.\u001b[0m\u001b[0mreduce\u001b[0m\u001b[1;33m(\u001b[0m\u001b[0mobj\u001b[0m\u001b[1;33m,\u001b[0m \u001b[0maxis\u001b[0m\u001b[1;33m,\u001b[0m \u001b[0mdtype\u001b[0m\u001b[1;33m,\u001b[0m \u001b[0mout\u001b[0m\u001b[1;33m,\u001b[0m \u001b[1;33m**\u001b[0m\u001b[0mpasskwargs\u001b[0m\u001b[1;33m)\u001b[0m\u001b[1;33m\u001b[0m\u001b[1;33m\u001b[0m\u001b[0m\n\u001b[0m\u001b[0;32m     87\u001b[0m \u001b[1;33m\u001b[0m\u001b[0m\n\u001b[0;32m     88\u001b[0m \u001b[1;33m\u001b[0m\u001b[0m\n",
      "\u001b[1;31mTypeError\u001b[0m: '<=' not supported between instances of 'tuple' and 'NoneType'"
     ]
    }
   ],
   "source": [
    "def get_img_shape_parallel(idx, img, total_imgs):\n",
    "    if idx % 5000 == 0 or idx == (total_imgs - 1):\n",
    "        print('{}: working on img num: {}'.format(threading.current_thread().name,\n",
    "                                                  idx))\n",
    "        return cv2.imread(img).shape\n",
    "    \n",
    "ex = futures.ThreadPoolExecutor(max_workers=None)\n",
    "data_inp = [(idx, img, len(train_files)) for idx, img in enumerate(train_files)]\n",
    "print('Starting Img shape computation:')\n",
    "train_img_dims_map = ex.map(get_img_shape_parallel, \n",
    "                            [record[0] for record in data_inp],\n",
    "                            [record[1] for record in data_inp],\n",
    "                            [record[2] for record in data_inp])\n",
    "train_img_dims = list(train_img_dims_map)\n",
    "print('Min Dimensions:', np.min(train_img_dims, axis=0)) \n",
    "print('Avg Dimensions:', np.mean(train_img_dims, axis=0))\n",
    "print('Median Dimensions:', np.median(train_img_dims, axis=0))\n",
    "print('Max Dimensions:', np.max(train_img_dims, axis=0))"
   ]
  },
  {
   "cell_type": "code",
   "execution_count": 16,
   "metadata": {},
   "outputs": [
    {
     "name": "stdout",
     "output_type": "stream",
     "text": [
      "Loading Train Images:\n",
      "ThreadPoolExecutor-1_0: working on img num: 0\n",
      "ThreadPoolExecutor-1_69: working on img num: 5000\n",
      "ThreadPoolExecutor-1_30: working on img num: 10000\n",
      "ThreadPoolExecutor-1_5: working on img num: 15000\n",
      "ThreadPoolExecutor-1_74: working on img num: 20000\n",
      "ThreadPoolExecutor-1_38: working on img num: 25000\n",
      "ThreadPoolExecutor-1_40: working on img num: 30000\n",
      "ThreadPoolExecutor-1_39: working on img num: 31612\n",
      "\n",
      "Loading Validation Images:\n",
      "ThreadPoolExecutor-1_73: working on img num: 0\n",
      "ThreadPoolExecutor-1_51: working on img num: 3512\n",
      "\n",
      "Loading Test Images:\n",
      "ThreadPoolExecutor-1_50: working on img num: 0\n",
      "ThreadPoolExecutor-1_40: working on img num: 5000\n",
      "ThreadPoolExecutor-1_11: working on img num: 8571\n"
     ]
    },
    {
     "data": {
      "text/plain": [
       "((31613, 125, 125, 3), (3513, 125, 125, 3), (8572, 125, 125, 3))"
      ]
     },
     "execution_count": 16,
     "metadata": {},
     "output_type": "execute_result"
    }
   ],
   "source": [
    "IMG_DIMS = (125, 125)\n",
    "\n",
    "def get_img_data_parallel(idx, img, total_imgs):\n",
    "    if idx % 5000 == 0 or idx == (total_imgs - 1):\n",
    "        print('{}: working on img num: {}'.format(threading.current_thread().name,\n",
    "                                                  idx))\n",
    "    img = cv2.imread(img)\n",
    "    img = cv2.resize(img, dsize=IMG_DIMS, \n",
    "                     interpolation=cv2.INTER_CUBIC)\n",
    "    img = np.array(img, dtype=np.float32)\n",
    "    return img\n",
    "\n",
    "ex = futures.ThreadPoolExecutor(max_workers=None)\n",
    "train_data_inp = [(idx, img, len(train_files)) for idx, img in enumerate(train_files)]\n",
    "val_data_inp = [(idx, img, len(val_files)) for idx, img in enumerate(val_files)]\n",
    "test_data_inp = [(idx, img, len(test_df['filename'])) for idx, img in enumerate(test_df['filename'])]\n",
    "\n",
    "print('Loading Train Images:')\n",
    "train_data_map = ex.map(get_img_data_parallel, \n",
    "                        [record[0] for record in train_data_inp],\n",
    "                        [record[1] for record in train_data_inp],\n",
    "                        [record[2] for record in train_data_inp])\n",
    "train_data = np.array(list(train_data_map))\n",
    "\n",
    "print('\\nLoading Validation Images:')\n",
    "val_data_map = ex.map(get_img_data_parallel, \n",
    "                        [record[0] for record in val_data_inp],\n",
    "                        [record[1] for record in val_data_inp],\n",
    "                        [record[2] for record in val_data_inp])\n",
    "val_data = np.array(list(val_data_map))\n",
    "\n",
    "print('\\nLoading Test Images:')\n",
    "test_data_map = ex.map(get_img_data_parallel, \n",
    "                        [record[0] for record in test_data_inp],\n",
    "                        [record[1] for record in test_data_inp],\n",
    "                        [record[2] for record in test_data_inp])\n",
    "test_data = np.array(list(test_data_map))\n",
    "\n",
    "train_data.shape, val_data.shape , test_data.shape "
   ]
  },
  {
   "cell_type": "code",
   "execution_count": 17,
   "metadata": {},
   "outputs": [],
   "source": [
    "import matplotlib.pyplot as plt\n",
    "%matplotlib inline"
   ]
  },
  {
   "cell_type": "code",
   "execution_count": 19,
   "metadata": {},
   "outputs": [
    {
     "data": {
      "image/png": "[encoded data removed]",
      "text/plain": [
       "<Figure size 576x576 with 8 Axes>"
      ]
     },
     "metadata": {},
     "output_type": "display_data"
    }
   ],
   "source": [
    "plt.figure(1 , figsize = (8 , 8))\n",
    "n = 0 \n",
    "for i in range(8):\n",
    "    n += 1 \n",
    "    r = np.random.randint(0 , train_data.shape[0] , 1)\n",
    "    plt.subplot(4 , 4 , n)\n",
    "    plt.subplots_adjust(hspace = 0.5 , wspace = 0.5)\n",
    "    plt.imshow(train_data[r[0]]/255.)\n",
    "    plt.title('{}'.format(train_labels[r[0]]))\n",
    "    plt.xticks([]) , plt.yticks([])"
   ]
  },
  {
   "cell_type": "code",
   "execution_count": 20,
   "metadata": {},
   "outputs": [],
   "source": [
    "BATCH_SIZE = 64\n",
    "NUM_CLASSES = 5\n",
    "EPOCHS = 25\n",
    "INPUT_SHAPE = (125, 125, 3)\n",
    "\n",
    "train_imgs_scaled = train_data / 255.\n",
    "val_imgs_scaled = val_data / 255.\n"
   ]
  },
  {
   "cell_type": "code",
   "execution_count": 40,
   "metadata": {},
   "outputs": [],
   "source": [
    "import tensorflow as tf"
   ]
  },
  {
   "cell_type": "code",
   "execution_count": 44,
   "metadata": {},
   "outputs": [
    {
     "name": "stdout",
     "output_type": "stream",
     "text": [
      "Model: \"model_1\"\n",
      "_________________________________________________________________\n",
      "Layer (type)                 Output Shape              Param #   \n",
      "=================================================================\n",
      "input_2 (InputLayer)         [(None, 125, 125, 3)]     0         \n",
      "_________________________________________________________________\n",
      "conv2d_3 (Conv2D)            (None, 125, 125, 32)      896       \n",
      "_________________________________________________________________\n",
      "max_pooling2d_3 (MaxPooling2 (None, 62, 62, 32)        0         \n",
      "_________________________________________________________________\n",
      "conv2d_4 (Conv2D)            (None, 62, 62, 64)        18496     \n",
      "_________________________________________________________________\n",
      "max_pooling2d_4 (MaxPooling2 (None, 31, 31, 64)        0         \n",
      "_________________________________________________________________\n",
      "conv2d_5 (Conv2D)            (None, 31, 31, 128)       73856     \n",
      "_________________________________________________________________\n",
      "max_pooling2d_5 (MaxPooling2 (None, 15, 15, 128)       0         \n",
      "_________________________________________________________________\n",
      "flatten_1 (Flatten)          (None, 28800)             0         \n",
      "_________________________________________________________________\n",
      "dense_3 (Dense)              (None, 512)               14746112  \n",
      "_________________________________________________________________\n",
      "dropout_2 (Dropout)          (None, 512)               0         \n",
      "_________________________________________________________________\n",
      "dense_4 (Dense)              (None, 512)               262656    \n",
      "_________________________________________________________________\n",
      "dropout_3 (Dropout)          (None, 512)               0         \n",
      "_________________________________________________________________\n",
      "dense_5 (Dense)              (None, 5)                 2565      \n",
      "=================================================================\n",
      "Total params: 15,104,581\n",
      "Trainable params: 15,104,581\n",
      "Non-trainable params: 0\n",
      "_________________________________________________________________\n"
     ]
    }
   ],
   "source": [
    "inp = tf.keras.layers.Input(shape=INPUT_SHAPE)\n",
    "\n",
    "conv1 = tf.keras.layers.Conv2D(32, kernel_size=(3, 3), \n",
    "                               activation='relu', padding='same')(inp)\n",
    "pool1 = tf.keras.layers.MaxPooling2D(pool_size=(2, 2))(conv1)\n",
    "conv2 = tf.keras.layers.Conv2D(64, kernel_size=(3, 3), \n",
    "                               activation='relu', padding='same')(pool1)\n",
    "pool2 = tf.keras.layers.MaxPooling2D(pool_size=(2, 2))(conv2)\n",
    "conv3 = tf.keras.layers.Conv2D(128, kernel_size=(3, 3), \n",
    "                               activation='relu', padding='same')(pool2)\n",
    "pool3 = tf.keras.layers.MaxPooling2D(pool_size=(2, 2))(conv3)\n",
    "\n",
    "flat = tf.keras.layers.Flatten()(pool3)\n",
    "\n",
    "hidden1 = tf.keras.layers.Dense(512, activation='relu')(flat)\n",
    "drop1 = tf.keras.layers.Dropout(rate=0.3)(hidden1)\n",
    "hidden2 = tf.keras.layers.Dense(512, activation='relu')(drop1)\n",
    "drop2 = tf.keras.layers.Dropout(rate=0.3)(hidden2)\n",
    "\n",
    "out = tf.keras.layers.Dense(5, activation='softmax')(drop2)\n",
    "\n",
    "model = tf.keras.Model(inputs=inp, outputs=out)\n",
    "model.compile(optimizer='adam',\n",
    "                loss='sparse_categorical_crossentropy',\n",
    "                metrics=['accuracy'])\n",
    "model.summary()"
   ]
  },
  {
   "cell_type": "code",
   "execution_count": 45,
   "metadata": {},
   "outputs": [
    {
     "name": "stdout",
     "output_type": "stream",
     "text": [
      "Train on 31613 samples, validate on 3513 samples\n",
      "Epoch 1/25\n",
      "31613/31613 [==============================] - 507s 16ms/sample - loss: 0.8918 - acc: 0.7339 - val_loss: 0.8578 - val_acc: 0.7338\n",
      "Epoch 2/25\n",
      "31613/31613 [==============================] - 499s 16ms/sample - loss: 0.8765 - acc: 0.7349 - val_loss: 0.8614 - val_acc: 0.7338\n",
      "Epoch 3/25\n",
      "31613/31613 [==============================] - 523s 17ms/sample - loss: 0.8728 - acc: 0.7349 - val_loss: 0.8585 - val_acc: 0.7338\n",
      "Epoch 4/25\n",
      "31613/31613 [==============================] - 519s 16ms/sample - loss: 0.8713 - acc: 0.7349 - val_loss: 0.8578 - val_acc: 0.7338\n",
      "Epoch 5/25\n",
      "31613/31613 [==============================] - 502s 16ms/sample - loss: 0.8713 - acc: 0.7349 - val_loss: 0.8576 - val_acc: 0.7338\n",
      "Epoch 6/25\n",
      "31613/31613 [==============================] - 495s 16ms/sample - loss: 0.8713 - acc: 0.7349 - val_loss: 0.8592 - val_acc: 0.7338\n",
      "Epoch 7/25\n",
      "31613/31613 [==============================] - 510s 16ms/sample - loss: 0.8709 - acc: 0.7349 - val_loss: 0.8585 - val_acc: 0.7338\n",
      "Epoch 8/25\n",
      "31613/31613 [==============================] - 521s 16ms/sample - loss: 0.8714 - acc: 0.7349 - val_loss: 0.8578 - val_acc: 0.7338\n",
      "Epoch 9/25\n",
      "31613/31613 [==============================] - 506s 16ms/sample - loss: 0.8705 - acc: 0.7349 - val_loss: 0.8586 - val_acc: 0.7338\n",
      "Epoch 10/25\n",
      "31613/31613 [==============================] - 493s 16ms/sample - loss: 0.8710 - acc: 0.7349 - val_loss: 0.8574 - val_acc: 0.7338\n",
      "Epoch 11/25\n",
      "31613/31613 [==============================] - 508s 16ms/sample - loss: 0.8708 - acc: 0.7349 - val_loss: 0.8580 - val_acc: 0.7338\n",
      "Epoch 12/25\n",
      "31613/31613 [==============================] - 505s 16ms/sample - loss: 0.8707 - acc: 0.7349 - val_loss: 0.8611 - val_acc: 0.7338\n",
      "Epoch 13/25\n",
      "31613/31613 [==============================] - 499s 16ms/sample - loss: 0.8707 - acc: 0.7349 - val_loss: 0.8581 - val_acc: 0.7338\n",
      "Epoch 14/25\n",
      "31613/31613 [==============================] - 520s 16ms/sample - loss: 0.8704 - acc: 0.7349 - val_loss: 0.8575 - val_acc: 0.7338\n",
      "Epoch 15/25\n",
      "31613/31613 [==============================] - 506s 16ms/sample - loss: 0.8704 - acc: 0.7349 - val_loss: 0.8578 - val_acc: 0.7338\n",
      "Epoch 16/25\n",
      "31613/31613 [==============================] - 517s 16ms/sample - loss: 0.8707 - acc: 0.7349 - val_loss: 0.8584 - val_acc: 0.7338\n",
      "Epoch 17/25\n",
      "31613/31613 [==============================] - 502s 16ms/sample - loss: 0.8710 - acc: 0.7349 - val_loss: 0.8576 - val_acc: 0.7338\n",
      "Epoch 18/25\n",
      "31613/31613 [==============================] - 512s 16ms/sample - loss: 0.8702 - acc: 0.7349 - val_loss: 0.8584 - val_acc: 0.7338\n",
      "Epoch 19/25\n",
      "31613/31613 [==============================] - 514s 16ms/sample - loss: 0.8703 - acc: 0.7349 - val_loss: 0.8584 - val_acc: 0.7338\n",
      "Epoch 20/25\n",
      "31613/31613 [==============================] - 494s 16ms/sample - loss: 0.8705 - acc: 0.7349 - val_loss: 0.8577 - val_acc: 0.7338\n",
      "Epoch 21/25\n",
      "31613/31613 [==============================] - 489s 15ms/sample - loss: 0.8705 - acc: 0.7349 - val_loss: 0.8597 - val_acc: 0.7338\n",
      "Epoch 22/25\n",
      "31613/31613 [==============================] - 492s 16ms/sample - loss: 0.8700 - acc: 0.7349 - val_loss: 0.8594 - val_acc: 0.7338\n",
      "Epoch 23/25\n",
      "31613/31613 [==============================] - 488s 15ms/sample - loss: 0.8703 - acc: 0.7349 - val_loss: 0.8606 - val_acc: 0.7338\n",
      "Epoch 24/25\n",
      "31613/31613 [==============================] - 487s 15ms/sample - loss: 0.8699 - acc: 0.7349 - val_loss: 0.8573 - val_acc: 0.7338\n",
      "Epoch 25/25\n",
      "31613/31613 [==============================] - 486s 15ms/sample - loss: 0.8695 - acc: 0.7349 - val_loss: 0.8582 - val_acc: 0.7338\n"
     ]
    }
   ],
   "source": [
    "history = model.fit(x=train_imgs_scaled, y=train_labels, \n",
    "                    batch_size=BATCH_SIZE,\n",
    "                    epochs=EPOCHS, \n",
    "                    validation_data=(val_imgs_scaled, val_labels), \n",
    "                    verbose=1)"
   ]
  },
  {
   "cell_type": "code",
   "execution_count": null,
   "metadata": {},
   "outputs": [],
   "source": []
  }
 ],
 "metadata": {
  "kernelspec": {
   "display_name": "Python 3",
   "language": "python",
   "name": "python3"
  },
  "language_info": {
   "codemirror_mode": {
    "name": "ipython",
    "version": 3
   },
   "file_extension": ".py",
   "mimetype": "text/x-python",
   "name": "python",
   "nbconvert_exporter": "python",
   "pygments_lexer": "ipython3",
   "version": "3.7.3"
  }
 },
 "nbformat": 4,
 "nbformat_minor": 2
}
